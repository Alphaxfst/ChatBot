{
 "cells": [
  {
   "cell_type": "markdown",
   "metadata": {},
   "source": [
    "<h2>Libraries</h2>"
   ]
  },
  {
   "cell_type": "code",
   "execution_count": 7,
   "metadata": {
    "id": "70nBFLDY0kcP"
   },
   "outputs": [],
   "source": [
    "#importing the libraries\n",
    "import tensorflow as tf\n",
    "import numpy as np\n",
    "import pandas as pd\n",
    "import json\n",
    "import nltk\n",
    "from tensorflow.keras.preprocessing.text import Tokenizer\n",
    "from tensorflow.keras.layers import Input, Embedding, LSTM , Dense,GlobalMaxPooling1D,Flatten\n",
    "from tensorflow.keras.models import Model\n",
    "import matplotlib.pyplot as plt"
   ]
  },
  {
   "cell_type": "code",
   "execution_count": 8,
   "metadata": {},
   "outputs": [
    {
     "name": "stdout",
     "output_type": "stream",
     "text": [
      "2.8.0\n",
      "1.20.3\n"
     ]
    }
   ],
   "source": [
    "print(tf.__version__)\n",
    "print(np.__version__)"
   ]
  },
  {
   "cell_type": "markdown",
   "metadata": {},
   "source": [
    "<h2> Importing the Data </h2>"
   ]
  },
  {
   "cell_type": "code",
   "execution_count": 9,
   "metadata": {
    "id": "Rvgn3orx0sAJ"
   },
   "outputs": [],
   "source": [
    "#importing the dataset\n",
    "with open('content.json') as content:\n",
    "  data1 = json.load(content)"
   ]
  },
  {
   "cell_type": "code",
   "execution_count": 10,
   "metadata": {
    "id": "PGGvrVhl07o8"
   },
   "outputs": [],
   "source": [
    "#getting all the data to lists\n",
    "tags = []\n",
    "inputs = []\n",
    "responses={}\n",
    "for intent in data1['intents']:\n",
    "  responses[intent['tag']]=intent['responses']\n",
    "  for lines in intent['input']:\n",
    "    inputs.append(lines)\n",
    "    tags.append(intent['tag'])"
   ]
  },
  {
   "cell_type": "code",
   "execution_count": 11,
   "metadata": {
    "id": "ruibWXd_3xFR"
   },
   "outputs": [],
   "source": [
    "#converting to dataframe\n",
    "data = pd.DataFrame({\"inputs\":inputs,\n",
    "                     \"tags\":tags})"
   ]
  },
  {
   "cell_type": "code",
   "execution_count": 12,
   "metadata": {
    "colab": {
     "base_uri": "https://localhost:8080/",
     "height": 419
    },
    "id": "elc0th634mTr",
    "outputId": "e4d9b7bc-3067-4c05-be6c-c0b3393c6d7b"
   },
   "outputs": [
    {
     "data": {
      "text/html": [
       "<div>\n",
       "<style scoped>\n",
       "    .dataframe tbody tr th:only-of-type {\n",
       "        vertical-align: middle;\n",
       "    }\n",
       "\n",
       "    .dataframe tbody tr th {\n",
       "        vertical-align: top;\n",
       "    }\n",
       "\n",
       "    .dataframe thead th {\n",
       "        text-align: right;\n",
       "    }\n",
       "</style>\n",
       "<table border=\"1\" class=\"dataframe\">\n",
       "  <thead>\n",
       "    <tr style=\"text-align: right;\">\n",
       "      <th></th>\n",
       "      <th>inputs</th>\n",
       "      <th>tags</th>\n",
       "    </tr>\n",
       "  </thead>\n",
       "  <tbody>\n",
       "    <tr>\n",
       "      <th>0</th>\n",
       "      <td>hello</td>\n",
       "      <td>greeting</td>\n",
       "    </tr>\n",
       "    <tr>\n",
       "      <th>1</th>\n",
       "      <td>hi there</td>\n",
       "      <td>greeting</td>\n",
       "    </tr>\n",
       "    <tr>\n",
       "      <th>2</th>\n",
       "      <td>nice to meet you</td>\n",
       "      <td>greeting</td>\n",
       "    </tr>\n",
       "    <tr>\n",
       "      <th>3</th>\n",
       "      <td>hi, is this is the pirate's organization</td>\n",
       "      <td>greeting</td>\n",
       "    </tr>\n",
       "    <tr>\n",
       "      <th>4</th>\n",
       "      <td>any pirates here ?</td>\n",
       "      <td>greeting</td>\n",
       "    </tr>\n",
       "    <tr>\n",
       "      <th>...</th>\n",
       "      <td>...</td>\n",
       "      <td>...</td>\n",
       "    </tr>\n",
       "    <tr>\n",
       "      <th>76</th>\n",
       "      <td>tell me more about the pre requisites</td>\n",
       "      <td>prerequisites</td>\n",
       "    </tr>\n",
       "    <tr>\n",
       "      <th>77</th>\n",
       "      <td>give more details about the pre-requisites</td>\n",
       "      <td>prerequisites</td>\n",
       "    </tr>\n",
       "    <tr>\n",
       "      <th>78</th>\n",
       "      <td>What are the requirements</td>\n",
       "      <td>prerequisites</td>\n",
       "    </tr>\n",
       "    <tr>\n",
       "      <th>79</th>\n",
       "      <td>what's the basic requirements</td>\n",
       "      <td>prerequisites</td>\n",
       "    </tr>\n",
       "    <tr>\n",
       "      <th>80</th>\n",
       "      <td>what are the basic skills to get recruited ?</td>\n",
       "      <td>prerequisites</td>\n",
       "    </tr>\n",
       "  </tbody>\n",
       "</table>\n",
       "<p>81 rows × 2 columns</p>\n",
       "</div>"
      ],
      "text/plain": [
       "                                          inputs           tags\n",
       "0                                          hello       greeting\n",
       "1                                       hi there       greeting\n",
       "2                               nice to meet you       greeting\n",
       "3       hi, is this is the pirate's organization       greeting\n",
       "4                             any pirates here ?       greeting\n",
       "..                                           ...            ...\n",
       "76         tell me more about the pre requisites  prerequisites\n",
       "77    give more details about the pre-requisites  prerequisites\n",
       "78                     What are the requirements  prerequisites\n",
       "79                 what's the basic requirements  prerequisites\n",
       "80  what are the basic skills to get recruited ?  prerequisites\n",
       "\n",
       "[81 rows x 2 columns]"
      ]
     },
     "execution_count": 12,
     "metadata": {},
     "output_type": "execute_result"
    }
   ],
   "source": [
    "#printing the data\n",
    "data"
   ]
  },
  {
   "cell_type": "code",
   "execution_count": 13,
   "metadata": {
    "id": "xd5Z3_oFf7iA"
   },
   "outputs": [],
   "source": [
    "data = data.sample(frac=1)"
   ]
  },
  {
   "cell_type": "markdown",
   "metadata": {},
   "source": [
    "<h2> Pre-Processing </h2>\n",
    "\n",
    "Important pre-processing such as removing the punctuations, converting to lowercase, encoding the textual data to numerical data are done"
   ]
  },
  {
   "cell_type": "code",
   "execution_count": 14,
   "metadata": {
    "colab": {
     "base_uri": "https://localhost:8080/",
     "height": 419
    },
    "id": "mm4koLwuGGJb",
    "outputId": "94d4af63-5fe5-42b9-aced-8d65e5616060"
   },
   "outputs": [
    {
     "data": {
      "text/html": [
       "<div>\n",
       "<style scoped>\n",
       "    .dataframe tbody tr th:only-of-type {\n",
       "        vertical-align: middle;\n",
       "    }\n",
       "\n",
       "    .dataframe tbody tr th {\n",
       "        vertical-align: top;\n",
       "    }\n",
       "\n",
       "    .dataframe thead th {\n",
       "        text-align: right;\n",
       "    }\n",
       "</style>\n",
       "<table border=\"1\" class=\"dataframe\">\n",
       "  <thead>\n",
       "    <tr style=\"text-align: right;\">\n",
       "      <th></th>\n",
       "      <th>inputs</th>\n",
       "      <th>tags</th>\n",
       "    </tr>\n",
       "  </thead>\n",
       "  <tbody>\n",
       "    <tr>\n",
       "      <th>77</th>\n",
       "      <td>give more details about the prerequisites</td>\n",
       "      <td>prerequisites</td>\n",
       "    </tr>\n",
       "    <tr>\n",
       "      <th>39</th>\n",
       "      <td>what are you</td>\n",
       "      <td>whoareyou</td>\n",
       "    </tr>\n",
       "    <tr>\n",
       "      <th>52</th>\n",
       "      <td>which place do you live in</td>\n",
       "      <td>whereareyou</td>\n",
       "    </tr>\n",
       "    <tr>\n",
       "      <th>5</th>\n",
       "      <td>hi</td>\n",
       "      <td>greeting</td>\n",
       "    </tr>\n",
       "    <tr>\n",
       "      <th>56</th>\n",
       "      <td>you are from</td>\n",
       "      <td>whereareyou</td>\n",
       "    </tr>\n",
       "    <tr>\n",
       "      <th>...</th>\n",
       "      <td>...</td>\n",
       "      <td>...</td>\n",
       "    </tr>\n",
       "    <tr>\n",
       "      <th>51</th>\n",
       "      <td>where do you live in</td>\n",
       "      <td>whereareyou</td>\n",
       "    </tr>\n",
       "    <tr>\n",
       "      <th>28</th>\n",
       "      <td>bye bro ill talk to you later</td>\n",
       "      <td>goodbye</td>\n",
       "    </tr>\n",
       "    <tr>\n",
       "      <th>80</th>\n",
       "      <td>what are the basic skills to get recruited</td>\n",
       "      <td>prerequisites</td>\n",
       "    </tr>\n",
       "    <tr>\n",
       "      <th>67</th>\n",
       "      <td>where is the straw hat center located</td>\n",
       "      <td>whereisthecenter</td>\n",
       "    </tr>\n",
       "    <tr>\n",
       "      <th>42</th>\n",
       "      <td>what can i call you</td>\n",
       "      <td>whoareyou</td>\n",
       "    </tr>\n",
       "  </tbody>\n",
       "</table>\n",
       "<p>81 rows × 2 columns</p>\n",
       "</div>"
      ],
      "text/plain": [
       "                                         inputs              tags\n",
       "77    give more details about the prerequisites     prerequisites\n",
       "39                                what are you          whoareyou\n",
       "52                  which place do you live in        whereareyou\n",
       "5                                            hi          greeting\n",
       "56                                you are from        whereareyou\n",
       "..                                          ...               ...\n",
       "51                        where do you live in        whereareyou\n",
       "28                bye bro ill talk to you later           goodbye\n",
       "80  what are the basic skills to get recruited      prerequisites\n",
       "67       where is the straw hat center located   whereisthecenter\n",
       "42                         what can i call you          whoareyou\n",
       "\n",
       "[81 rows x 2 columns]"
      ]
     },
     "execution_count": 14,
     "metadata": {},
     "output_type": "execute_result"
    }
   ],
   "source": [
    "#removing punctuations\n",
    "import string\n",
    "data['inputs'] = data['inputs'].apply(lambda wrd:[ltrs.lower() for ltrs in wrd if ltrs not in string.punctuation])\n",
    "data['inputs'] = data['inputs'].apply(lambda wrd: ''.join(wrd))\n",
    "data"
   ]
  },
  {
   "cell_type": "code",
   "execution_count": 15,
   "metadata": {
    "id": "eNahMu32_h1Q"
   },
   "outputs": [],
   "source": [
    "#tokenize the data\n",
    "from tensorflow.keras.preprocessing.text import Tokenizer\n",
    "tokenizer = Tokenizer(num_words=2000)\n",
    "tokenizer.fit_on_texts(data['inputs'])\n",
    "train = tokenizer.texts_to_sequences(data['inputs'])\n",
    "#apply padding\n",
    "from tensorflow.keras.preprocessing.sequence import pad_sequences\n",
    "x_train = pad_sequences(train)\n",
    "\n",
    "#encoding the outputs\n",
    "from sklearn.preprocessing import LabelEncoder\n",
    "le = LabelEncoder()\n",
    "y_train = le.fit_transform(data['tags'])"
   ]
  },
  {
   "cell_type": "markdown",
   "metadata": {},
   "source": [
    "Tensorflow's tokenizer assigns a unique token to each distinct word. and padding is done to get all the data to the same length so as to send it to an rnn layer"
   ]
  },
  {
   "cell_type": "code",
   "execution_count": 16,
   "metadata": {
    "colab": {
     "base_uri": "https://localhost:8080/",
     "height": 34
    },
    "id": "A-VY9ZnyM_65",
    "outputId": "13522291-df62-4de7-9bba-7b09903d9fa6"
   },
   "outputs": [
    {
     "name": "stdout",
     "output_type": "stream",
     "text": [
      "8\n"
     ]
    }
   ],
   "source": [
    "input_shape = x_train.shape[1]\n",
    "print(input_shape)"
   ]
  },
  {
   "cell_type": "code",
   "execution_count": 17,
   "metadata": {
    "colab": {
     "base_uri": "https://localhost:8080/",
     "height": 51
    },
    "id": "OaXDwXOIAkR4",
    "outputId": "f3ea1290-2abc-4759-b692-3c8860559c74"
   },
   "outputs": [
    {
     "name": "stdout",
     "output_type": "stream",
     "text": [
      "number of unique words :  96\n",
      "output length:  8\n"
     ]
    }
   ],
   "source": [
    "#define vocabulary\n",
    "vocabulary = len(tokenizer.word_index)\n",
    "print(\"number of unique words : \",vocabulary)\n",
    "output_length = le.classes_.shape[0]\n",
    "print(\"output length: \",output_length)"
   ]
  },
  {
   "cell_type": "markdown",
   "metadata": {},
   "source": [
    "<h2>Neural Network</h2>"
   ]
  },
  {
   "cell_type": "code",
   "execution_count": 18,
   "metadata": {
    "id": "vaCZkzTEJCd6"
   },
   "outputs": [],
   "source": [
    "#creating the model\n",
    "\n",
    "i = Input(shape=(input_shape,))\n",
    "x = Embedding(vocabulary+1,10)(i)\n",
    "x = LSTM(10,return_sequences=True)(x)\n",
    "x = Flatten()(x)\n",
    "x = Dense(output_length,activation=\"softmax\")(x)\n",
    "model  = Model(i,x)"
   ]
  },
  {
   "cell_type": "code",
   "execution_count": 19,
   "metadata": {
    "id": "rqF-km_SK04Q"
   },
   "outputs": [],
   "source": [
    "#compiling the model\n",
    "model.compile(loss=\"sparse_categorical_crossentropy\",optimizer='adam',metrics=['accuracy'])"
   ]
  },
  {
   "cell_type": "code",
   "execution_count": 20,
   "metadata": {
    "colab": {
     "base_uri": "https://localhost:8080/",
     "height": 1000
    },
    "id": "Iml1HlsFLUFY",
    "outputId": "9102eefa-b6e3-43fc-bad1-1ae378688150"
   },
   "outputs": [
    {
     "name": "stdout",
     "output_type": "stream",
     "text": [
      "Epoch 1/200\n",
      "3/3 [==============================] - 4s 11ms/step - loss: 2.0808 - accuracy: 0.0988\n",
      "Epoch 2/200\n",
      "3/3 [==============================] - 0s 11ms/step - loss: 2.0768 - accuracy: 0.2222\n",
      "Epoch 3/200\n",
      "3/3 [==============================] - 0s 12ms/step - loss: 2.0732 - accuracy: 0.2222\n",
      "Epoch 4/200\n",
      "3/3 [==============================] - 0s 11ms/step - loss: 2.0696 - accuracy: 0.2099\n",
      "Epoch 5/200\n",
      "3/3 [==============================] - 0s 10ms/step - loss: 2.0658 - accuracy: 0.2099\n",
      "Epoch 6/200\n",
      "3/3 [==============================] - 0s 11ms/step - loss: 2.0620 - accuracy: 0.1975\n",
      "Epoch 7/200\n",
      "3/3 [==============================] - 0s 12ms/step - loss: 2.0579 - accuracy: 0.1975\n",
      "Epoch 8/200\n",
      "3/3 [==============================] - 0s 11ms/step - loss: 2.0533 - accuracy: 0.1975\n",
      "Epoch 9/200\n",
      "3/3 [==============================] - 0s 12ms/step - loss: 2.0489 - accuracy: 0.1975\n",
      "Epoch 10/200\n",
      "3/3 [==============================] - 0s 11ms/step - loss: 2.0436 - accuracy: 0.1975\n",
      "Epoch 11/200\n",
      "3/3 [==============================] - 0s 11ms/step - loss: 2.0379 - accuracy: 0.1975\n",
      "Epoch 12/200\n",
      "3/3 [==============================] - 0s 12ms/step - loss: 2.0321 - accuracy: 0.1975\n",
      "Epoch 13/200\n",
      "3/3 [==============================] - 0s 11ms/step - loss: 2.0255 - accuracy: 0.1975\n",
      "Epoch 14/200\n",
      "3/3 [==============================] - 0s 11ms/step - loss: 2.0188 - accuracy: 0.1975\n",
      "Epoch 15/200\n",
      "3/3 [==============================] - 0s 11ms/step - loss: 2.0098 - accuracy: 0.1975\n",
      "Epoch 16/200\n",
      "3/3 [==============================] - 0s 11ms/step - loss: 2.0014 - accuracy: 0.1975\n",
      "Epoch 17/200\n",
      "3/3 [==============================] - 0s 12ms/step - loss: 1.9930 - accuracy: 0.1975\n",
      "Epoch 18/200\n",
      "3/3 [==============================] - 0s 12ms/step - loss: 1.9827 - accuracy: 0.1975\n",
      "Epoch 19/200\n",
      "3/3 [==============================] - 0s 11ms/step - loss: 1.9711 - accuracy: 0.1975\n",
      "Epoch 20/200\n",
      "3/3 [==============================] - 0s 12ms/step - loss: 1.9609 - accuracy: 0.2099\n",
      "Epoch 21/200\n",
      "3/3 [==============================] - 0s 10ms/step - loss: 1.9485 - accuracy: 0.2099\n",
      "Epoch 22/200\n",
      "3/3 [==============================] - 0s 11ms/step - loss: 1.9367 - accuracy: 0.2099\n",
      "Epoch 23/200\n",
      "3/3 [==============================] - 0s 12ms/step - loss: 1.9242 - accuracy: 0.2099\n",
      "Epoch 24/200\n",
      "3/3 [==============================] - 0s 11ms/step - loss: 1.9107 - accuracy: 0.2099\n",
      "Epoch 25/200\n",
      "3/3 [==============================] - 0s 12ms/step - loss: 1.8969 - accuracy: 0.2099\n",
      "Epoch 26/200\n",
      "3/3 [==============================] - 0s 11ms/step - loss: 1.8827 - accuracy: 0.2099\n",
      "Epoch 27/200\n",
      "3/3 [==============================] - 0s 12ms/step - loss: 1.8689 - accuracy: 0.2099\n",
      "Epoch 28/200\n",
      "3/3 [==============================] - 0s 11ms/step - loss: 1.8522 - accuracy: 0.2099\n",
      "Epoch 29/200\n",
      "3/3 [==============================] - 0s 11ms/step - loss: 1.8348 - accuracy: 0.2346\n",
      "Epoch 30/200\n",
      "3/3 [==============================] - 0s 11ms/step - loss: 1.8165 - accuracy: 0.2346\n",
      "Epoch 31/200\n",
      "3/3 [==============================] - 0s 12ms/step - loss: 1.7981 - accuracy: 0.2840\n",
      "Epoch 32/200\n",
      "3/3 [==============================] - 0s 11ms/step - loss: 1.7768 - accuracy: 0.2963\n",
      "Epoch 33/200\n",
      "3/3 [==============================] - 0s 12ms/step - loss: 1.7547 - accuracy: 0.3210\n",
      "Epoch 34/200\n",
      "3/3 [==============================] - 0s 11ms/step - loss: 1.7310 - accuracy: 0.3210\n",
      "Epoch 35/200\n",
      "3/3 [==============================] - 0s 11ms/step - loss: 1.7075 - accuracy: 0.3333\n",
      "Epoch 36/200\n",
      "3/3 [==============================] - 0s 12ms/step - loss: 1.6823 - accuracy: 0.3704\n",
      "Epoch 37/200\n",
      "3/3 [==============================] - 0s 12ms/step - loss: 1.6562 - accuracy: 0.3704\n",
      "Epoch 38/200\n",
      "3/3 [==============================] - 0s 11ms/step - loss: 1.6289 - accuracy: 0.3827\n",
      "Epoch 39/200\n",
      "3/3 [==============================] - 0s 11ms/step - loss: 1.6017 - accuracy: 0.3827\n",
      "Epoch 40/200\n",
      "3/3 [==============================] - 0s 11ms/step - loss: 1.5721 - accuracy: 0.4074\n",
      "Epoch 41/200\n",
      "3/3 [==============================] - 0s 12ms/step - loss: 1.5438 - accuracy: 0.4074\n",
      "Epoch 42/200\n",
      "3/3 [==============================] - 0s 11ms/step - loss: 1.5136 - accuracy: 0.4074\n",
      "Epoch 43/200\n",
      "3/3 [==============================] - 0s 12ms/step - loss: 1.4841 - accuracy: 0.3951\n",
      "Epoch 44/200\n",
      "3/3 [==============================] - 0s 12ms/step - loss: 1.4547 - accuracy: 0.4074\n",
      "Epoch 45/200\n",
      "3/3 [==============================] - 0s 11ms/step - loss: 1.4245 - accuracy: 0.4444\n",
      "Epoch 46/200\n",
      "3/3 [==============================] - 0s 12ms/step - loss: 1.3956 - accuracy: 0.4444\n",
      "Epoch 47/200\n",
      "3/3 [==============================] - 0s 12ms/step - loss: 1.3675 - accuracy: 0.4444\n",
      "Epoch 48/200\n",
      "3/3 [==============================] - 0s 13ms/step - loss: 1.3384 - accuracy: 0.4815\n",
      "Epoch 49/200\n",
      "3/3 [==============================] - 0s 13ms/step - loss: 1.3102 - accuracy: 0.4938\n",
      "Epoch 50/200\n",
      "3/3 [==============================] - 0s 12ms/step - loss: 1.2822 - accuracy: 0.5432\n",
      "Epoch 51/200\n",
      "3/3 [==============================] - 0s 14ms/step - loss: 1.2547 - accuracy: 0.5679\n",
      "Epoch 52/200\n",
      "3/3 [==============================] - 0s 13ms/step - loss: 1.2276 - accuracy: 0.5802\n",
      "Epoch 53/200\n",
      "3/3 [==============================] - 0s 11ms/step - loss: 1.1997 - accuracy: 0.5802\n",
      "Epoch 54/200\n",
      "3/3 [==============================] - 0s 13ms/step - loss: 1.1735 - accuracy: 0.5802\n",
      "Epoch 55/200\n",
      "3/3 [==============================] - 0s 12ms/step - loss: 1.1471 - accuracy: 0.5926\n",
      "Epoch 56/200\n",
      "3/3 [==============================] - 0s 14ms/step - loss: 1.1208 - accuracy: 0.6173\n",
      "Epoch 57/200\n",
      "3/3 [==============================] - 0s 14ms/step - loss: 1.0947 - accuracy: 0.6420\n",
      "Epoch 58/200\n",
      "3/3 [==============================] - 0s 11ms/step - loss: 1.0700 - accuracy: 0.6790\n",
      "Epoch 59/200\n",
      "3/3 [==============================] - 0s 11ms/step - loss: 1.0440 - accuracy: 0.7037\n",
      "Epoch 60/200\n",
      "3/3 [==============================] - 0s 10ms/step - loss: 1.0202 - accuracy: 0.7531\n",
      "Epoch 61/200\n",
      "3/3 [==============================] - 0s 11ms/step - loss: 0.9951 - accuracy: 0.7778\n",
      "Epoch 62/200\n",
      "3/3 [==============================] - 0s 11ms/step - loss: 0.9716 - accuracy: 0.7778\n",
      "Epoch 63/200\n",
      "3/3 [==============================] - 0s 10ms/step - loss: 0.9487 - accuracy: 0.7654\n",
      "Epoch 64/200\n",
      "3/3 [==============================] - 0s 11ms/step - loss: 0.9229 - accuracy: 0.7654\n",
      "Epoch 65/200\n",
      "3/3 [==============================] - 0s 11ms/step - loss: 0.9004 - accuracy: 0.7778\n",
      "Epoch 66/200\n",
      "3/3 [==============================] - 0s 10ms/step - loss: 0.8777 - accuracy: 0.8148\n",
      "Epoch 67/200\n",
      "3/3 [==============================] - 0s 11ms/step - loss: 0.8550 - accuracy: 0.8272\n",
      "Epoch 68/200\n",
      "3/3 [==============================] - 0s 10ms/step - loss: 0.8334 - accuracy: 0.8272\n",
      "Epoch 69/200\n",
      "3/3 [==============================] - 0s 10ms/step - loss: 0.8117 - accuracy: 0.8519\n",
      "Epoch 70/200\n",
      "3/3 [==============================] - 0s 10ms/step - loss: 0.7909 - accuracy: 0.8765\n",
      "Epoch 71/200\n",
      "3/3 [==============================] - 0s 11ms/step - loss: 0.7704 - accuracy: 0.8889\n",
      "Epoch 72/200\n",
      "3/3 [==============================] - 0s 11ms/step - loss: 0.7498 - accuracy: 0.8889\n",
      "Epoch 73/200\n",
      "3/3 [==============================] - 0s 12ms/step - loss: 0.7316 - accuracy: 0.8889\n",
      "Epoch 74/200\n",
      "3/3 [==============================] - 0s 11ms/step - loss: 0.7113 - accuracy: 0.8889\n",
      "Epoch 75/200\n",
      "3/3 [==============================] - 0s 11ms/step - loss: 0.6944 - accuracy: 0.8889\n",
      "Epoch 76/200\n",
      "3/3 [==============================] - 0s 11ms/step - loss: 0.6772 - accuracy: 0.8889\n",
      "Epoch 77/200\n",
      "3/3 [==============================] - 0s 11ms/step - loss: 0.6595 - accuracy: 0.8889\n",
      "Epoch 78/200\n",
      "3/3 [==============================] - 0s 12ms/step - loss: 0.6435 - accuracy: 0.9012\n",
      "Epoch 79/200\n",
      "3/3 [==============================] - 0s 12ms/step - loss: 0.6260 - accuracy: 0.9012\n",
      "Epoch 80/200\n",
      "3/3 [==============================] - 0s 12ms/step - loss: 0.6099 - accuracy: 0.9136\n",
      "Epoch 81/200\n",
      "3/3 [==============================] - 0s 12ms/step - loss: 0.5943 - accuracy: 0.9136\n",
      "Epoch 82/200\n",
      "3/3 [==============================] - 0s 11ms/step - loss: 0.5785 - accuracy: 0.9136\n",
      "Epoch 83/200\n",
      "3/3 [==============================] - 0s 13ms/step - loss: 0.5635 - accuracy: 0.9136\n",
      "Epoch 84/200\n",
      "3/3 [==============================] - 0s 13ms/step - loss: 0.5500 - accuracy: 0.9012\n",
      "Epoch 85/200\n",
      "3/3 [==============================] - 0s 14ms/step - loss: 0.5361 - accuracy: 0.9012\n",
      "Epoch 86/200\n",
      "3/3 [==============================] - 0s 13ms/step - loss: 0.5230 - accuracy: 0.9136\n",
      "Epoch 87/200\n",
      "3/3 [==============================] - 0s 12ms/step - loss: 0.5107 - accuracy: 0.9383\n",
      "Epoch 88/200\n",
      "3/3 [==============================] - 0s 12ms/step - loss: 0.4990 - accuracy: 0.9383\n",
      "Epoch 89/200\n",
      "3/3 [==============================] - 0s 12ms/step - loss: 0.4872 - accuracy: 0.9383\n",
      "Epoch 90/200\n",
      "3/3 [==============================] - 0s 12ms/step - loss: 0.4755 - accuracy: 0.9383\n",
      "Epoch 91/200\n",
      "3/3 [==============================] - 0s 11ms/step - loss: 0.4654 - accuracy: 0.9259\n",
      "Epoch 92/200\n",
      "3/3 [==============================] - 0s 11ms/step - loss: 0.4549 - accuracy: 0.9259\n",
      "Epoch 93/200\n",
      "3/3 [==============================] - 0s 12ms/step - loss: 0.4458 - accuracy: 0.9383\n",
      "Epoch 94/200\n",
      "3/3 [==============================] - 0s 12ms/step - loss: 0.4346 - accuracy: 0.9259\n",
      "Epoch 95/200\n",
      "3/3 [==============================] - 0s 11ms/step - loss: 0.4253 - accuracy: 0.9259\n",
      "Epoch 96/200\n",
      "3/3 [==============================] - 0s 12ms/step - loss: 0.4163 - accuracy: 0.9259\n",
      "Epoch 97/200\n",
      "3/3 [==============================] - 0s 12ms/step - loss: 0.4068 - accuracy: 0.9383\n",
      "Epoch 98/200\n",
      "3/3 [==============================] - 0s 12ms/step - loss: 0.3982 - accuracy: 0.9383\n",
      "Epoch 99/200\n",
      "3/3 [==============================] - 0s 12ms/step - loss: 0.3904 - accuracy: 0.9383\n",
      "Epoch 100/200\n",
      "3/3 [==============================] - 0s 11ms/step - loss: 0.3820 - accuracy: 0.9383\n",
      "Epoch 101/200\n",
      "3/3 [==============================] - 0s 12ms/step - loss: 0.3743 - accuracy: 0.9383\n",
      "Epoch 102/200\n",
      "3/3 [==============================] - 0s 12ms/step - loss: 0.3667 - accuracy: 0.9383\n",
      "Epoch 103/200\n",
      "3/3 [==============================] - 0s 12ms/step - loss: 0.3608 - accuracy: 0.9383\n",
      "Epoch 104/200\n",
      "3/3 [==============================] - 0s 13ms/step - loss: 0.3528 - accuracy: 0.9506\n",
      "Epoch 105/200\n",
      "3/3 [==============================] - 0s 15ms/step - loss: 0.3451 - accuracy: 0.9506\n",
      "Epoch 106/200\n",
      "3/3 [==============================] - 0s 14ms/step - loss: 0.3391 - accuracy: 0.9383\n",
      "Epoch 107/200\n",
      "3/3 [==============================] - 0s 14ms/step - loss: 0.3322 - accuracy: 0.9383\n",
      "Epoch 108/200\n",
      "3/3 [==============================] - 0s 13ms/step - loss: 0.3256 - accuracy: 0.9383\n",
      "Epoch 109/200\n",
      "3/3 [==============================] - 0s 13ms/step - loss: 0.3185 - accuracy: 0.9506\n",
      "Epoch 110/200\n",
      "3/3 [==============================] - 0s 12ms/step - loss: 0.3136 - accuracy: 0.9506\n",
      "Epoch 111/200\n",
      "3/3 [==============================] - 0s 11ms/step - loss: 0.3092 - accuracy: 0.9506\n",
      "Epoch 112/200\n",
      "3/3 [==============================] - 0s 12ms/step - loss: 0.3020 - accuracy: 0.9506\n",
      "Epoch 113/200\n",
      "3/3 [==============================] - 0s 12ms/step - loss: 0.2971 - accuracy: 0.9630\n",
      "Epoch 114/200\n",
      "3/3 [==============================] - 0s 13ms/step - loss: 0.2923 - accuracy: 0.9630\n",
      "Epoch 115/200\n",
      "3/3 [==============================] - 0s 12ms/step - loss: 0.2863 - accuracy: 0.9630\n",
      "Epoch 116/200\n",
      "3/3 [==============================] - 0s 14ms/step - loss: 0.2812 - accuracy: 0.9630\n",
      "Epoch 117/200\n",
      "3/3 [==============================] - 0s 14ms/step - loss: 0.2773 - accuracy: 0.9630\n",
      "Epoch 118/200\n",
      "3/3 [==============================] - 0s 12ms/step - loss: 0.2714 - accuracy: 0.9753\n",
      "Epoch 119/200\n",
      "3/3 [==============================] - 0s 13ms/step - loss: 0.2671 - accuracy: 0.9630\n",
      "Epoch 120/200\n",
      "3/3 [==============================] - 0s 11ms/step - loss: 0.2622 - accuracy: 0.9753\n",
      "Epoch 121/200\n",
      "3/3 [==============================] - 0s 12ms/step - loss: 0.2582 - accuracy: 0.9753\n",
      "Epoch 122/200\n",
      "3/3 [==============================] - 0s 12ms/step - loss: 0.2536 - accuracy: 0.9877\n",
      "Epoch 123/200\n",
      "3/3 [==============================] - 0s 10ms/step - loss: 0.2491 - accuracy: 0.9877\n",
      "Epoch 124/200\n",
      "3/3 [==============================] - 0s 13ms/step - loss: 0.2458 - accuracy: 0.9877\n",
      "Epoch 125/200\n",
      "3/3 [==============================] - 0s 12ms/step - loss: 0.2409 - accuracy: 0.9877\n",
      "Epoch 126/200\n",
      "3/3 [==============================] - 0s 12ms/step - loss: 0.2375 - accuracy: 0.9877\n",
      "Epoch 127/200\n",
      "3/3 [==============================] - 0s 12ms/step - loss: 0.2326 - accuracy: 0.9877\n",
      "Epoch 128/200\n",
      "3/3 [==============================] - 0s 12ms/step - loss: 0.2284 - accuracy: 0.9877\n",
      "Epoch 129/200\n",
      "3/3 [==============================] - 0s 12ms/step - loss: 0.2247 - accuracy: 0.9877\n",
      "Epoch 130/200\n",
      "3/3 [==============================] - 0s 11ms/step - loss: 0.2211 - accuracy: 0.9753\n",
      "Epoch 131/200\n",
      "3/3 [==============================] - 0s 12ms/step - loss: 0.2178 - accuracy: 0.9753\n",
      "Epoch 132/200\n",
      "3/3 [==============================] - 0s 11ms/step - loss: 0.2144 - accuracy: 0.9753\n",
      "Epoch 133/200\n",
      "3/3 [==============================] - 0s 11ms/step - loss: 0.2107 - accuracy: 0.9877\n",
      "Epoch 134/200\n",
      "3/3 [==============================] - 0s 12ms/step - loss: 0.2074 - accuracy: 0.9877\n",
      "Epoch 135/200\n",
      "3/3 [==============================] - 0s 12ms/step - loss: 0.2032 - accuracy: 0.9877\n",
      "Epoch 136/200\n",
      "3/3 [==============================] - 0s 13ms/step - loss: 0.1999 - accuracy: 0.9877\n",
      "Epoch 137/200\n",
      "3/3 [==============================] - 0s 13ms/step - loss: 0.1970 - accuracy: 0.9877\n",
      "Epoch 138/200\n",
      "3/3 [==============================] - 0s 12ms/step - loss: 0.1937 - accuracy: 0.9877\n",
      "Epoch 139/200\n",
      "3/3 [==============================] - 0s 13ms/step - loss: 0.1909 - accuracy: 0.9877\n",
      "Epoch 140/200\n",
      "3/3 [==============================] - 0s 14ms/step - loss: 0.1876 - accuracy: 0.9877\n",
      "Epoch 141/200\n",
      "3/3 [==============================] - 0s 13ms/step - loss: 0.1843 - accuracy: 0.9877\n",
      "Epoch 142/200\n",
      "3/3 [==============================] - 0s 13ms/step - loss: 0.1811 - accuracy: 0.9877\n",
      "Epoch 143/200\n",
      "3/3 [==============================] - 0s 12ms/step - loss: 0.1785 - accuracy: 0.9877\n",
      "Epoch 144/200\n",
      "3/3 [==============================] - 0s 14ms/step - loss: 0.1766 - accuracy: 0.9877\n",
      "Epoch 145/200\n",
      "3/3 [==============================] - 0s 13ms/step - loss: 0.1734 - accuracy: 0.9877\n",
      "Epoch 146/200\n",
      "3/3 [==============================] - 0s 14ms/step - loss: 0.1703 - accuracy: 0.9877\n",
      "Epoch 147/200\n",
      "3/3 [==============================] - 0s 14ms/step - loss: 0.1681 - accuracy: 0.9877\n",
      "Epoch 148/200\n",
      "3/3 [==============================] - 0s 14ms/step - loss: 0.1656 - accuracy: 0.9877\n",
      "Epoch 149/200\n",
      "3/3 [==============================] - 0s 12ms/step - loss: 0.1621 - accuracy: 0.9877\n",
      "Epoch 150/200\n",
      "3/3 [==============================] - 0s 13ms/step - loss: 0.1595 - accuracy: 0.9877\n",
      "Epoch 151/200\n",
      "3/3 [==============================] - 0s 11ms/step - loss: 0.1571 - accuracy: 0.9877\n",
      "Epoch 152/200\n",
      "3/3 [==============================] - 0s 11ms/step - loss: 0.1552 - accuracy: 0.9877\n",
      "Epoch 153/200\n",
      "3/3 [==============================] - 0s 12ms/step - loss: 0.1522 - accuracy: 0.9877\n",
      "Epoch 154/200\n",
      "3/3 [==============================] - 0s 12ms/step - loss: 0.1497 - accuracy: 0.9877\n",
      "Epoch 155/200\n",
      "3/3 [==============================] - 0s 12ms/step - loss: 0.1479 - accuracy: 0.9877\n",
      "Epoch 156/200\n",
      "3/3 [==============================] - 0s 12ms/step - loss: 0.1454 - accuracy: 0.9877\n",
      "Epoch 157/200\n",
      "3/3 [==============================] - 0s 11ms/step - loss: 0.1436 - accuracy: 0.9877\n",
      "Epoch 158/200\n",
      "3/3 [==============================] - 0s 11ms/step - loss: 0.1413 - accuracy: 0.9877\n",
      "Epoch 159/200\n",
      "3/3 [==============================] - 0s 11ms/step - loss: 0.1389 - accuracy: 0.9877\n",
      "Epoch 160/200\n",
      "3/3 [==============================] - 0s 11ms/step - loss: 0.1366 - accuracy: 0.9877\n",
      "Epoch 161/200\n",
      "3/3 [==============================] - 0s 12ms/step - loss: 0.1348 - accuracy: 0.9877\n",
      "Epoch 162/200\n",
      "3/3 [==============================] - 0s 11ms/step - loss: 0.1331 - accuracy: 0.9877\n",
      "Epoch 163/200\n",
      "3/3 [==============================] - 0s 12ms/step - loss: 0.1306 - accuracy: 0.9877\n",
      "Epoch 164/200\n",
      "3/3 [==============================] - 0s 12ms/step - loss: 0.1287 - accuracy: 0.9877\n",
      "Epoch 165/200\n",
      "3/3 [==============================] - 0s 12ms/step - loss: 0.1276 - accuracy: 0.9877\n",
      "Epoch 166/200\n",
      "3/3 [==============================] - 0s 11ms/step - loss: 0.1251 - accuracy: 0.9877\n",
      "Epoch 167/200\n",
      "3/3 [==============================] - 0s 11ms/step - loss: 0.1231 - accuracy: 0.9877\n",
      "Epoch 168/200\n",
      "3/3 [==============================] - 0s 11ms/step - loss: 0.1215 - accuracy: 0.9877\n",
      "Epoch 169/200\n",
      "3/3 [==============================] - 0s 10ms/step - loss: 0.1198 - accuracy: 0.9877\n",
      "Epoch 170/200\n",
      "3/3 [==============================] - 0s 12ms/step - loss: 0.1179 - accuracy: 1.0000\n",
      "Epoch 171/200\n",
      "3/3 [==============================] - 0s 11ms/step - loss: 0.1160 - accuracy: 1.0000\n",
      "Epoch 172/200\n",
      "3/3 [==============================] - 0s 12ms/step - loss: 0.1142 - accuracy: 1.0000\n",
      "Epoch 173/200\n",
      "3/3 [==============================] - 0s 10ms/step - loss: 0.1124 - accuracy: 1.0000\n",
      "Epoch 174/200\n",
      "3/3 [==============================] - 0s 12ms/step - loss: 0.1105 - accuracy: 1.0000\n",
      "Epoch 175/200\n",
      "3/3 [==============================] - 0s 11ms/step - loss: 0.1093 - accuracy: 1.0000\n",
      "Epoch 176/200\n",
      "3/3 [==============================] - 0s 12ms/step - loss: 0.1080 - accuracy: 1.0000\n",
      "Epoch 177/200\n",
      "3/3 [==============================] - 0s 11ms/step - loss: 0.1062 - accuracy: 1.0000\n",
      "Epoch 178/200\n",
      "3/3 [==============================] - 0s 11ms/step - loss: 0.1046 - accuracy: 1.0000\n",
      "Epoch 179/200\n",
      "3/3 [==============================] - 0s 11ms/step - loss: 0.1032 - accuracy: 1.0000\n",
      "Epoch 180/200\n",
      "3/3 [==============================] - 0s 11ms/step - loss: 0.1020 - accuracy: 1.0000\n",
      "Epoch 181/200\n",
      "3/3 [==============================] - 0s 12ms/step - loss: 0.1008 - accuracy: 1.0000\n",
      "Epoch 182/200\n",
      "3/3 [==============================] - 0s 13ms/step - loss: 0.0992 - accuracy: 1.0000\n",
      "Epoch 183/200\n",
      "3/3 [==============================] - 0s 12ms/step - loss: 0.0976 - accuracy: 1.0000\n",
      "Epoch 184/200\n",
      "3/3 [==============================] - 0s 12ms/step - loss: 0.0965 - accuracy: 1.0000\n",
      "Epoch 185/200\n",
      "3/3 [==============================] - 0s 12ms/step - loss: 0.0951 - accuracy: 1.0000\n",
      "Epoch 186/200\n",
      "3/3 [==============================] - 0s 12ms/step - loss: 0.0934 - accuracy: 1.0000\n",
      "Epoch 187/200\n",
      "3/3 [==============================] - 0s 12ms/step - loss: 0.0924 - accuracy: 1.0000\n",
      "Epoch 188/200\n",
      "3/3 [==============================] - 0s 13ms/step - loss: 0.0909 - accuracy: 1.0000\n",
      "Epoch 189/200\n",
      "3/3 [==============================] - 0s 12ms/step - loss: 0.0903 - accuracy: 1.0000\n",
      "Epoch 190/200\n",
      "3/3 [==============================] - 0s 12ms/step - loss: 0.0887 - accuracy: 1.0000\n",
      "Epoch 191/200\n",
      "3/3 [==============================] - 0s 11ms/step - loss: 0.0879 - accuracy: 1.0000\n",
      "Epoch 192/200\n",
      "3/3 [==============================] - 0s 12ms/step - loss: 0.0859 - accuracy: 1.0000\n",
      "Epoch 193/200\n",
      "3/3 [==============================] - 0s 12ms/step - loss: 0.0851 - accuracy: 1.0000\n",
      "Epoch 194/200\n",
      "3/3 [==============================] - 0s 11ms/step - loss: 0.0838 - accuracy: 1.0000\n",
      "Epoch 195/200\n",
      "3/3 [==============================] - 0s 12ms/step - loss: 0.0827 - accuracy: 1.0000\n",
      "Epoch 196/200\n",
      "3/3 [==============================] - 0s 11ms/step - loss: 0.0814 - accuracy: 1.0000\n",
      "Epoch 197/200\n",
      "3/3 [==============================] - 0s 10ms/step - loss: 0.0805 - accuracy: 1.0000\n",
      "Epoch 198/200\n",
      "3/3 [==============================] - 0s 11ms/step - loss: 0.0793 - accuracy: 1.0000\n",
      "Epoch 199/200\n",
      "3/3 [==============================] - 0s 11ms/step - loss: 0.0783 - accuracy: 1.0000\n",
      "Epoch 200/200\n",
      "3/3 [==============================] - 0s 11ms/step - loss: 0.0773 - accuracy: 1.0000\n"
     ]
    }
   ],
   "source": [
    "#training the model\n",
    "train = model.fit(x_train,y_train,epochs=200)"
   ]
  },
  {
   "cell_type": "markdown",
   "metadata": {},
   "source": [
    "<h2> Model Analysis </h2>"
   ]
  },
  {
   "cell_type": "code",
   "execution_count": 21,
   "metadata": {
    "colab": {
     "base_uri": "https://localhost:8080/",
     "height": 282
    },
    "id": "BcWCycGSLbeB",
    "outputId": "b8a60f76-7488-466e-8950-3d42b4b7b4c3"
   },
   "outputs": [
    {
     "data": {
      "text/plain": [
       "<matplotlib.legend.Legend at 0x1a8bb38d6a0>"
      ]
     },
     "execution_count": 21,
     "metadata": {},
     "output_type": "execute_result"
    },
    {
     "data": {
      "image/png": "[encoded data removed]",
      "text/plain": [
       "<Figure size 432x288 with 1 Axes>"
      ]
     },
     "metadata": {
      "needs_background": "light"
     },
     "output_type": "display_data"
    }
   ],
   "source": [
    "#plotting model accuracy\n",
    "plt.plot(train.history['accuracy'],label='training set accuracy')\n",
    "plt.plot(train.history['loss'],label='training set loss')\n",
    "plt.legend()"
   ]
  },
  {
   "cell_type": "markdown",
   "metadata": {},
   "source": [
    "## Testing"
   ]
  },
  {
   "cell_type": "code",
   "execution_count": 22,
   "metadata": {
    "colab": {
     "base_uri": "https://localhost:8080/",
     "height": 241
    },
    "id": "71ITeJqtfV0s",
    "outputId": "8da86848-8252-4ced-b535-df0c03edfaa4"
   },
   "outputs": [
    {
     "name": "stdout",
     "output_type": "stream",
     "text": [
      "You : hi\n",
      "Going Merry :  welcome aboard, how may I help you ?\n",
      "You : who are you\n",
      "Going Merry :  I am a The Great Pirate Bot , you can call me Going Merry\n",
      "You : where is center park\n",
      "Going Merry :  East Blue. That's where I live\n",
      "You : okay thanks\n",
      "Going Merry :  nice conversation. bye\n"
     ]
    }
   ],
   "source": [
    "#chatting\n",
    "import random\n",
    "\n",
    "\n",
    "while True:\n",
    "  texts_p = []\n",
    "  prediction_input = input('You : ')\n",
    "\n",
    "  #removing punctuation and converting to lowercase\n",
    "  prediction_input = [letters.lower() for letters in prediction_input if letters not in string.punctuation]\n",
    "  prediction_input = ''.join(prediction_input)\n",
    "  texts_p.append(prediction_input)\n",
    "\n",
    "  #tokenizing and padding\n",
    "  prediction_input = tokenizer.texts_to_sequences(texts_p)\n",
    "  prediction_input = np.array(prediction_input).reshape(-1)\n",
    "  prediction_input = pad_sequences([prediction_input],input_shape)\n",
    "\n",
    "  #getting output from model\n",
    "  output = model.predict(prediction_input)\n",
    "  output = output.argmax()\n",
    "\n",
    "  #finding the right tag and predicting\n",
    "  response_tag = le.inverse_transform([output])[0]\n",
    "  print(\"Going Merry : \",random.choice(responses[response_tag]))\n",
    "  if response_tag == \"goodbye\":\n",
    "    break"
   ]
  },
  {
   "cell_type": "markdown",
   "metadata": {},
   "source": [
    "<h2> Conclusion </h2>\n",
    "So, This is the Chatbot that I have created with tensorflow2 utilizing the power of embedding matrix.<br>\n",
    "This was created in memory og <b> Going Merry </b> , a ship from a manga called \"One Piece\" which revolves around the story of 5 pirates. "
   ]
  }
 ],
 "metadata": {
  "colab": {
   "collapsed_sections": [],
   "name": "chatbot.ipynb",
   "provenance": [],
   "toc_visible": true
  },
  "kernelspec": {
   "display_name": "Python 3 (ipykernel)",
   "language": "python",
   "name": "python3"
  },
  "language_info": {
   "codemirror_mode": {
    "name": "ipython",
    "version": 3
   },
   "file_extension": ".py",
   "mimetype": "text/x-python",
   "name": "python",
   "nbconvert_exporter": "python",
   "pygments_lexer": "ipython3",
   "version": "3.9.7"
  }
 },
 "nbformat": 4,
 "nbformat_minor": 1
}
